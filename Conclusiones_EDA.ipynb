{
 "cells": [
  {
   "cell_type": "markdown",
   "metadata": {},
   "source": [
    "Algunas Conclusiones de Povlación en el Top 10 Países con más Población: <br>\n",
    "\n",
    "- China e India son los páises con mayor población por amplia diferencia, siendo China el primero aún que India está acercandose. <br>\n",
    "- Estados Unidos se mantuvo como el 3 desde 1960. <br>\n",
    "<br>\n",
    "- A partir década de los 60: <br>\n",
    "    - China, India, Estados Unidos, Rusia, Indonesia, Japón, Brasil. Alemania, Reino Unido, Bangladesh <br>\n",
    "     <br>\n",
    "- A partir de la década de los 70: <br>\n",
    "    - Reino Unido baja del top 10 <br>\n",
    "    - Entra Pakistan en el top 10<br>\n",
    "    - China, India, Estados Unidos, Rusia, Indonesia, Japón, Brasil. Alemania, Bangladesh, Pakistán<br>\n",
    "    <br>\n",
    "- A partir de la década de los 80: <br>\n",
    "    - Alemania baja del top 10 <br>\n",
    "    - Entra Niggeria en el top 10<br>\n",
    "    - Rusia baja al 4 puesto e Indonesia sube al tercero. <br>\n",
    "    - Brasil desplaza a Japón, y Pakistán a Bangladesh. <br>\n",
    "    - China, India, Estados Unidos, Indonesia, Rusia, Brasil, Japón, Pakistán, Bangladesh, Nigeria<br>\n",
    "    <br>\n",
    "- A partir de la década de los 90: <br>\n",
    "    - Se mantienen los mismos paises <br>\n",
    "    - Brasil desplaza a Rusia. <br>\n",
    "    - China, India, Estados Unidos, Indonesia, Brasil, Rusia, Japón, Pakistán, Bangladesh, Nigeria<br>\n",
    "    <br>\n",
    "- A partir de la década de los 00: <br>\n",
    "    - Se mantienen los mismos paises <br>\n",
    "    - Pakistan desplaza a Rusia. <br>\n",
    "    - Japón cae al último lugar. <br>\n",
    "    - China, India, Estados Unidos, Indonesia, Brasil, Rusia, Pakistán, Bangladesh, Nigeria, Japón<br>\n",
    "    <br>\n",
    "- A partir de la década de los 10: <br>\n",
    "    - Se mantienen los mismos paises <br>\n",
    "    - Nigeria y Bangladesh desplazan a Rusia. <br>\n",
    "    - Nigeria supera a Bangladesh. <br>\n",
    "    - China, India, Estados Unidos, Indonesia, Brasil, Pakistán, Nigeria, Bangladesh, Rusia, Japón<br>\n",
    "    <br>\n",
    "- Hasta el año 2021: <br>\n",
    "    - Japón cae del top 10 e ingresa México <br>\n",
    "    - Pakistan supera a Brasil <br>\n",
    "    - China, India, Estados Unidos, Brasil, Indonesia, Pakistán, Nigeria, Bangladesh, Rusia, México<br>\n",
    "    <br>"
   ]
  }
 ],
 "metadata": {
  "kernelspec": {
   "display_name": "Python 3",
   "language": "python",
   "name": "python3"
  },
  "language_info": {
   "codemirror_mode": {
    "name": "ipython",
    "version": 3
   },
   "file_extension": ".py",
   "mimetype": "text/x-python",
   "name": "python",
   "nbconvert_exporter": "python",
   "pygments_lexer": "ipython3",
   "version": "3.11.9"
  }
 },
 "nbformat": 4,
 "nbformat_minor": 2
}
